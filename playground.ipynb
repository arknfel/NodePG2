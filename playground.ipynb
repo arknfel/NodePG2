{
 "cells": [
  {
   "cell_type": "code",
   "execution_count": null,
   "id": "884d216f",
   "metadata": {},
   "outputs": [],
   "source": [
    "import requests as req\n",
    "\n",
    "base_url = 'http://127.0.0.1:3000'"
   ]
  },
  {
   "cell_type": "code",
   "execution_count": null,
   "id": "7c40afa6",
   "metadata": {},
   "outputs": [],
   "source": [
    "# signup\n",
    "payload = {\n",
    "  \"firstname\": \"test1\",\n",
    "  \"lastname\": \"__\",\n",
    "  \"password\": \"arknfel\"\n",
    "}\n",
    "\n",
    "res = req.post(base_url + '/users', json=payload)\n",
    "print(res.json())\n",
    "print(res.headers['Authorization'].split(' ')[1])\n",
    "print(res.status_code)"
   ]
  },
  {
   "cell_type": "code",
   "execution_count": null,
   "id": "16634d55",
   "metadata": {},
   "outputs": [],
   "source": [
    "# login\n",
    "payload = {\n",
    "  \"firstname\": \"arknfel\",\n",
    "  \"password\": \"arknfel\"\n",
    "}\n",
    "\n",
    "res = req.post(base_url + '/users/login', json=payload)\n",
    "token = res.headers['Authorization'].split(' ')[1]\n",
    "headers = {'Authorization': f'Bearer {token}'}\n",
    "print(res.json())\n",
    "print(res.status_code)\n",
    "print(token)"
   ]
  },
  {
   "cell_type": "code",
   "execution_count": null,
   "id": "e8521258",
   "metadata": {},
   "outputs": [],
   "source": [
    "# get\n",
    "res = req.get(base_url + '/users', headers=headers)\n",
    "\n",
    "print(res.json())\n",
    "print(res.status_code)"
   ]
  },
  {
   "cell_type": "code",
   "execution_count": null,
   "id": "828e8f29",
   "metadata": {},
   "outputs": [],
   "source": [
    "# index\n",
    "res = req.get(base_url + '/orders', headers=headers)\n",
    "\n",
    "print(res.json())\n",
    "print(res.status_code)"
   ]
  },
  {
   "cell_type": "code",
   "execution_count": null,
   "id": "9a7b0fe7",
   "metadata": {},
   "outputs": [],
   "source": [
    "# close order\n",
    "res = req.post(base_url + '/orders/2/close')\n",
    "\n",
    "print(res.json())\n",
    "print(res.status_code)"
   ]
  },
  {
   "cell_type": "code",
   "execution_count": null,
   "id": "99f338ca",
   "metadata": {},
   "outputs": [],
   "source": [
    "# create order\n",
    "payload = {\n",
    "  \"user_id\": \"1\"\n",
    "}\n",
    "res = req.post(base_url + '/orders', headers=headers, json=payload)\n",
    "\n",
    "print(res.json())\n",
    "print(res.status_code)"
   ]
  },
  {
   "cell_type": "code",
   "execution_count": null,
   "id": "a062c184",
   "metadata": {},
   "outputs": [],
   "source": [
    "# add product to order\n",
    "payload = {\n",
    "  \"quantity\": \"3\",\n",
    "  \"product_id\": \"1\"\n",
    "}\n",
    "res = req.post(base_url + '/orders/1/products?status=complete', json=payload)\n",
    "\n",
    "print(res.json())\n",
    "print(res.status_code)"
   ]
  },
  {
   "cell_type": "code",
   "execution_count": null,
   "id": "3dff195f",
   "metadata": {},
   "outputs": [],
   "source": [
    "res = req.get(base_url + '/orders/1')\n",
    "\n",
    "print(res.json())\n",
    "print(res.status_code)"
   ]
  },
  {
   "cell_type": "code",
   "execution_count": null,
   "id": "ad8e0b06",
   "metadata": {},
   "outputs": [],
   "source": [
    "res = req.get(base_url + '/orders/1/products')\n",
    "\n",
    "print(res.json())\n",
    "print(res.status_code)"
   ]
  },
  {
   "cell_type": "code",
   "execution_count": null,
   "id": "9000864e",
   "metadata": {},
   "outputs": [],
   "source": []
  }
 ],
 "metadata": {
  "kernelspec": {
   "display_name": "Python 3 (ipykernel)",
   "language": "python",
   "name": "python3"
  },
  "language_info": {
   "codemirror_mode": {
    "name": "ipython",
    "version": 3
   },
   "file_extension": ".py",
   "mimetype": "text/x-python",
   "name": "python",
   "nbconvert_exporter": "python",
   "pygments_lexer": "ipython3",
   "version": "3.10.2"
  }
 },
 "nbformat": 4,
 "nbformat_minor": 5
}
