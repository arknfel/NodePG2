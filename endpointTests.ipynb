{
 "cells": [
  {
   "cell_type": "code",
   "execution_count": 1,
   "id": "86d16eab",
   "metadata": {},
   "outputs": [],
   "source": [
    "import requests"
   ]
  },
  {
   "cell_type": "code",
   "execution_count": 4,
   "id": "d0b47cb8",
   "metadata": {},
   "outputs": [],
   "source": [
    "payload = {\n",
    "    'username': 'arknfel',\n",
    "    'email_address': 'arkn@domain.com',\n",
    "    'password': 'password'\n",
    "}\n",
    "\n",
    "url = 'http://127.0.0.1:3000/users'"
   ]
  },
  {
   "cell_type": "code",
   "execution_count": 8,
   "id": "a758f428",
   "metadata": {},
   "outputs": [
    {
     "data": {
      "text/plain": [
       "{'id': 1,\n",
       " 'username': 'arknfel',\n",
       " 'email_address': 'arkn@domain.com',\n",
       " 'password_digest': '$2b$10$SzJD98seQ./pp5vPnI6ix.ZJsDGtFH5zyV1J3/8tVd6BcaHjGPene'}"
      ]
     },
     "execution_count": 8,
     "metadata": {},
     "output_type": "execute_result"
    }
   ],
   "source": [
    "requests.post(url, json=payload).json()"
   ]
  },
  {
   "cell_type": "code",
   "execution_count": 9,
   "id": "14107d27",
   "metadata": {},
   "outputs": [],
   "source": [
    "payload = {\n",
    "    'username': 'arknfel',\n",
    "    'password': 'password'\n",
    "}\n",
    "\n",
    "url = 'http://127.0.0.1:3000/users/login'"
   ]
  },
  {
   "cell_type": "code",
   "execution_count": 10,
   "id": "007bae56",
   "metadata": {},
   "outputs": [
    {
     "data": {
      "text/plain": [
       "{'password_digest': '$2b$10$SzJD98seQ./pp5vPnI6ix.ZJsDGtFH5zyV1J3/8tVd6BcaHjGPene'}"
      ]
     },
     "execution_count": 10,
     "metadata": {},
     "output_type": "execute_result"
    }
   ],
   "source": [
    "requests.post(url, json=payload).json()"
   ]
  },
  {
   "cell_type": "code",
   "execution_count": null,
   "id": "5f73fb45",
   "metadata": {},
   "outputs": [],
   "source": []
  }
 ],
 "metadata": {
  "kernelspec": {
   "display_name": "Python 3 (ipykernel)",
   "language": "python",
   "name": "python3"
  },
  "language_info": {
   "codemirror_mode": {
    "name": "ipython",
    "version": 3
   },
   "file_extension": ".py",
   "mimetype": "text/x-python",
   "name": "python",
   "nbconvert_exporter": "python",
   "pygments_lexer": "ipython3",
   "version": "3.10.2"
  }
 },
 "nbformat": 4,
 "nbformat_minor": 5
}
